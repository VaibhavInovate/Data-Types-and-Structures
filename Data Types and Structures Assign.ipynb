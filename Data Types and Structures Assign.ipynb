{
  "nbformat": 4,
  "nbformat_minor": 0,
  "metadata": {
    "colab": {
      "provenance": []
    },
    "kernelspec": {
      "name": "python3",
      "display_name": "Python 3"
    },
    "language_info": {
      "name": "python"
    }
  },
  "cells": [
    {
      "cell_type": "markdown",
      "source": [
        "# DATA TYPES AND STRUCTURES ASSIGNMENT"
      ],
      "metadata": {
        "id": "IhUBxhCBAxCT"
      }
    },
    {
      "cell_type": "markdown",
      "source": [
        "1. **What are data structures, and why are they important?**\n",
        "\n",
        "Data structures are a way of organizing and storing data in a computer so that it can be accessed and used efficiently. They are important because they provide a means to manage large amounts of data, enabling efficient operations like searching, inserting, and deleting data, which is crucial for creating effective and optimized software."
      ],
      "metadata": {
        "id": "MOtQMUQ8BKeX"
      }
    },
    {
      "cell_type": "markdown",
      "source": [
        "2. **Explain the difference between mutable and immutable data types with examples?**\n",
        "\n",
        "Mutable data types are those whose state or contents can be changed after they are created. An example is a list in Python. You can add, remove, or change elements within a list.\n",
        "\n",
        "**my_list = [1, 2, 3]**\n",
        "\n",
        "Immutable data types are those that cannot be changed after they are created. If you need to alter an immutable object, you must create a new object.Examples include strings and tuples.\n",
        "\n",
        "**my_string = \"hello\"**\n",
        "\n",
        "\n",
        "\n"
      ],
      "metadata": {
        "id": "Nkh0eNbfB1LQ"
      }
    },
    {
      "cell_type": "markdown",
      "source": [
        "3.  **What are the main differences between lists and tuples in Python?**\n",
        "\n",
        "The main differences between lists and tuples are:\n",
        "\n",
        "Mutability: Lists are mutable, meaning their elements can be changed. Tuples are immutable, meaning their elements cannot be changed after creation.\n",
        "\n",
        "Syntax: Lists are created with square brackets [], while tuples use parentheses ().\n",
        "\n",
        "Performance: Tuples can be slightly faster than lists for iteration because their contents are fixed.\n",
        "\n",
        "Use Case: Lists are used for collections of items that may need to change, while tuples are used for collections of items that should remain constant."
      ],
      "metadata": {
        "id": "12NSCOQvD84n"
      }
    },
    {
      "cell_type": "markdown",
      "source": [
        "4.  **Describe how dictionaries store data?**\n",
        "\n",
        "Dictionaries store data as key-value pairs. Each unique key is mapped to a value. This structure allows for fast data retrieval because the dictionary uses the key to directly calculate the location of the associated value, a process known as hashing."
      ],
      "metadata": {
        "id": "v40rxlG7EdiH"
      }
    },
    {
      "cell_type": "markdown",
      "source": [
        "5. **Why might you use a set instead of a list in Python?**\n",
        "\n",
        "You would use a set instead of a list primarily for two reasons:\n",
        "\n",
        "Uniqueness: Sets automatically enforce that all elements are unique. If you add a duplicate item to a set, it will be ignored.\n",
        "\n",
        "Membership Testing: Checking if an element exists in a set is significantly faster on average than checking for its existence in a list, especially for large collections of data."
      ],
      "metadata": {
        "id": "8N1ZkLJOEvCP"
      }
    },
    {
      "cell_type": "markdown",
      "source": [
        "6. **What is a string in Python, and how is it different from a list?**\n",
        "\n",
        "A string is a sequence of characters used to represent text. The main difference between a string and a list is that strings are immutable, whereas lists are mutable. You cannot change an individual character in a string; you have to create a new string."
      ],
      "metadata": {
        "id": "LkCDdBNZFR2e"
      }
    },
    {
      "cell_type": "markdown",
      "source": [
        "7. **How do tuples ensure data integrity in Python?**\n",
        "\n",
        "Tuples ensure data integrity because they are immutable. Once a tuple is created, its contents cannot be altered, preventing accidental or unauthorized modification of the data it holds. This makes them reliable for storing data that should not change."
      ],
      "metadata": {
        "id": "mN-8MPjzFpqO"
      }
    },
    {
      "cell_type": "markdown",
      "source": [
        "8.  **What is a hash table, and how does it relate to dictionaries in Python?**\n",
        "\n",
        "A hash table is a data structure that stores data by associating keys with values. It uses a special function, called a hash function, to calculate an index into an array where the value can be stored and later found. This mechanism allows for extremely fast data lookups.\n",
        "\n",
        "Dictionaries are implemented using hash tables. When you want to retrieve a value from a dictionary, Python applies the hash function to the key you provide. This immediately tells Python where the corresponding value is located, eliminating the need to search through the entire collection. This direct lookup is why accessing, inserting, or deleting items in a dictionary is so efficient."
      ],
      "metadata": {
        "id": "bwtWZp8ZGQMV"
      }
    },
    {
      "cell_type": "markdown",
      "source": [
        "9.  **Can lists contain different data types in Python?**\n",
        "\n",
        "Yes, lists in Python are heterogeneous, meaning they can contain elements of different data types within the same list. For example, a single list can hold integers, strings, and even other lists."
      ],
      "metadata": {
        "id": "1mESR9RLHrPE"
      }
    },
    {
      "cell_type": "markdown",
      "source": [
        "10.  **Explain why strings are immutable in Python?**\n",
        "\n",
        "Strings are immutable in Python for a few key reasons:\n",
        "\n",
        "Hashing: Because they are immutable, strings can be used as keys in dictionaries, as their hash value will never change.\n",
        "\n",
        "Security: Immutability ensures that a string value remains constant, which can be important for things like file paths or credentials.\n",
        "\n",
        "Performance: When you create a new string that is a modification of an existing one, Python can optimize memory usage by reusing parts of the original string."
      ],
      "metadata": {
        "id": "a9_5WVDLH8fk"
      }
    },
    {
      "cell_type": "markdown",
      "source": [
        "11. **What advantages do dictionaries offer over lists for certain tasks?**\n",
        "\n",
        "For tasks that involve looking up values based on a specific identifier, dictionaries have a significant advantage over lists. Accessing an element in a dictionary by its key is much faster than searching for an element in a list, especially for large datasets."
      ],
      "metadata": {
        "id": "MaDBQMuRI11U"
      }
    },
    {
      "cell_type": "markdown",
      "source": [
        "12. **Describe a scenario where using a tuple would be preferable over a list?**\n",
        "\n",
        "A tuple would be preferable when you want to return multiple, distinct values from a function. For example, a function that looks up a user's information might return their name, age, and city as a tuple ('Alice', 30, 'New York'). This ensures the returned data structure is not accidentally modified."
      ],
      "metadata": {
        "id": "unnNpEjHJTvK"
      }
    },
    {
      "cell_type": "markdown",
      "source": [
        "13. **How do sets handle duplicate values in Python?**\n",
        "\n",
        "Sets automatically handle duplicates by only storing one instance of each unique value. If you attempt to add an element that is already in the set, the set remains unchanged."
      ],
      "metadata": {
        "id": "q8NnheIwJtjb"
      }
    },
    {
      "cell_type": "markdown",
      "source": [
        "14. **How does the “in” keyword work differently for lists and dictionaries?**\n",
        "\n",
        "For a list, the in keyword checks if a specific element is present in the list.\n",
        "\n",
        "For a dictionary, the in keyword checks if a specific key is present in the dictionary. It does not check the values."
      ],
      "metadata": {
        "id": "LFKlze_-KGWb"
      }
    },
    {
      "cell_type": "markdown",
      "source": [
        "15. **Can you modify the elements of a tuple? Explain why or why not?**\n",
        "\n",
        "No, you cannot modify the elements of a tuple. This is because tuples are an immutable data type. If you need to change the data, you must create a new tuple."
      ],
      "metadata": {
        "id": "ECWRlcb5Kb9c"
      }
    },
    {
      "cell_type": "markdown",
      "source": [
        "16.  **What is a nested dictionary, and give an example of its use case?**\n",
        "\n",
        "A nested dictionary is a dictionary where the values are themselves dictionaries. This is useful for representing more complex, structured data.\n",
        "\n",
        "Use Case: Storing employee records, where each employee is a key, and their value is another dictionary containing details like their ID, department, and salary.\n",
        "\n",
        "employees = {\n",
        "    'JohnDoe': {'ID': 'E123', 'Department': 'Sales'},\n",
        "    'JaneSmith': {'ID': 'E456', 'Department': 'Marketing'}\n",
        "}"
      ],
      "metadata": {
        "id": "JJn1qk3OKq8j"
      }
    },
    {
      "cell_type": "markdown",
      "source": [
        "17.  **Describe the time complexity of accessing elements in a dictionary?**\n",
        "\n",
        "The time complexity of accessing an element in a dictionary is, on average, O(1), or constant time. This is because dictionaries use a hash table, which allows for direct computation of the element's location based on its key. In the worst-case scenario (due to hash collisions), it can be O(n)."
      ],
      "metadata": {
        "id": "JmqLVhPBLREz"
      }
    },
    {
      "cell_type": "markdown",
      "source": [
        "18. **In what situations are lists preferred over dictionaries?**\n",
        "\n",
        "Lists are preferred over dictionaries when:\n",
        "\n",
        "The order of the elements is important.\n",
        "\n",
        "You need to store a collection of items that do not have a unique identifier or key.\n",
        "\n",
        "You will primarily be accessing elements by their numerical index."
      ],
      "metadata": {
        "id": "vf3QpIM6Llm7"
      }
    },
    {
      "cell_type": "markdown",
      "source": [
        "19. **Why are dictionaries considered unordered, and how does that affect data retrieval?**\n",
        "\n",
        "Historically, dictionaries in Python (before version 3.7) were unordered, meaning the order of key-value pairs was not guaranteed. However, in modern Python (3.7+), dictionaries do maintain insertion order. Despite this, data retrieval is not affected because you always access elements by their key, not by their position or index. The primary retrieval method remains key-based."
      ],
      "metadata": {
        "id": "WTUywIqqMBDb"
      }
    },
    {
      "cell_type": "markdown",
      "source": [
        "20.  **Explain the difference between a list and a dictionary in terms of data retrieval?**\n",
        "\n",
        "List: Data is retrieved by its numerical index (position) in the sequence. For example, my_list[0] retrieves the first element.\n",
        "\n",
        "Dictionary: Data is retrieved by its key. For example, my_dict['name'] retrieves the value associated with the key 'name'."
      ],
      "metadata": {
        "id": "iudGuLAZMTha"
      }
    },
    {
      "cell_type": "markdown",
      "source": [
        "# PRACTICAL QUESTIONS"
      ],
      "metadata": {
        "id": "nnIwdk6bMiUb"
      }
    },
    {
      "cell_type": "markdown",
      "source": [
        "1. **Write a code to create a string with your name and print it?**"
      ],
      "metadata": {
        "id": "4Sv-gLGCMyI7"
      }
    },
    {
      "cell_type": "code",
      "source": [
        "my_name = \"vaibhav\"\n",
        "print(my_name)"
      ],
      "metadata": {
        "colab": {
          "base_uri": "https://localhost:8080/"
        },
        "id": "GHfygM2WMu-b",
        "outputId": "e7621d17-55cb-4512-f313-2ad98fc544b5"
      },
      "execution_count": 1,
      "outputs": [
        {
          "output_type": "stream",
          "name": "stdout",
          "text": [
            "vaibhav\n"
          ]
        }
      ]
    },
    {
      "cell_type": "markdown",
      "source": [
        "2.  **Write a code to find the length of the string \"Hello World\"?**"
      ],
      "metadata": {
        "id": "9nXBzzyqNFHz"
      }
    },
    {
      "cell_type": "code",
      "source": [
        "print(len(\"Hello World\"))"
      ],
      "metadata": {
        "colab": {
          "base_uri": "https://localhost:8080/"
        },
        "id": "84wHhHoSNN3b",
        "outputId": "57cfcf31-0df3-4d4d-bba1-8b4094381932"
      },
      "execution_count": 2,
      "outputs": [
        {
          "output_type": "stream",
          "name": "stdout",
          "text": [
            "11\n"
          ]
        }
      ]
    },
    {
      "cell_type": "markdown",
      "source": [
        "3.  **Write a code to slice the first 3 characters from the string \"Python Programming\"?**"
      ],
      "metadata": {
        "id": "xF9q7dwBNYtr"
      }
    },
    {
      "cell_type": "code",
      "source": [
        "my_string = \"Python Programming\"\n",
        "print(my_string[0:3])"
      ],
      "metadata": {
        "colab": {
          "base_uri": "https://localhost:8080/"
        },
        "id": "8qeoH9zmNg7j",
        "outputId": "c728c578-bbd8-40d0-b907-267d5c68ab10"
      },
      "execution_count": 3,
      "outputs": [
        {
          "output_type": "stream",
          "name": "stdout",
          "text": [
            "Pyt\n"
          ]
        }
      ]
    },
    {
      "cell_type": "markdown",
      "source": [
        "4.  **Write a code to convert the string \"hello\" to uppercase?**"
      ],
      "metadata": {
        "id": "Byu8-YXONq87"
      }
    },
    {
      "cell_type": "code",
      "source": [
        "print(\"hello\".upper())"
      ],
      "metadata": {
        "colab": {
          "base_uri": "https://localhost:8080/"
        },
        "id": "PgyXr5LIO1BM",
        "outputId": "508add9f-86d8-40cf-ff05-8537c3fc935b"
      },
      "execution_count": 4,
      "outputs": [
        {
          "output_type": "stream",
          "name": "stdout",
          "text": [
            "HELLO\n"
          ]
        }
      ]
    },
    {
      "cell_type": "markdown",
      "source": [
        "5. **Write a code to replace the word \"apple\" with \"orange\" in the string \"I like apple\"?**"
      ],
      "metadata": {
        "id": "_Zd3Is6BO6Fi"
      }
    },
    {
      "cell_type": "code",
      "source": [
        "my_string = \"I like apple\"\n",
        "print(my_string.replace(\"apple\", \"orange\"))"
      ],
      "metadata": {
        "colab": {
          "base_uri": "https://localhost:8080/"
        },
        "id": "Gtjug0isPAgj",
        "outputId": "15487d35-8a73-40d8-fb98-b9965def4d50"
      },
      "execution_count": 5,
      "outputs": [
        {
          "output_type": "stream",
          "name": "stdout",
          "text": [
            "I like orange\n"
          ]
        }
      ]
    },
    {
      "cell_type": "markdown",
      "source": [
        "6. **Write a code to create a list with numbers 1 to 5 and print it?**"
      ],
      "metadata": {
        "id": "HaYnlVekPH5M"
      }
    },
    {
      "cell_type": "code",
      "source": [
        "num_list = [1,2,3,4,5]\n",
        "print(num_list)"
      ],
      "metadata": {
        "colab": {
          "base_uri": "https://localhost:8080/"
        },
        "id": "EytRlXs9Pp97",
        "outputId": "d095075d-e354-4d9e-e29f-86893eb570b6"
      },
      "execution_count": 11,
      "outputs": [
        {
          "output_type": "stream",
          "name": "stdout",
          "text": [
            "[1, 2, 3, 4, 5]\n"
          ]
        }
      ]
    },
    {
      "cell_type": "markdown",
      "source": [
        "7. **Write a code to append the number 10 to the list [1, 2, 3, 4] ?**"
      ],
      "metadata": {
        "id": "DjRnZWcjQkRx"
      }
    },
    {
      "cell_type": "code",
      "source": [
        "my_list = [1, 2, 3, 4]\n",
        "my_list.append(10)\n",
        "print(my_list)"
      ],
      "metadata": {
        "colab": {
          "base_uri": "https://localhost:8080/"
        },
        "id": "rqEOCwCqQwaS",
        "outputId": "09150497-5a4e-4fa3-915a-78a186bd40ad"
      },
      "execution_count": 12,
      "outputs": [
        {
          "output_type": "stream",
          "name": "stdout",
          "text": [
            "[1, 2, 3, 4, 10]\n"
          ]
        }
      ]
    },
    {
      "cell_type": "markdown",
      "source": [
        "8.  **Write a code to remove the number 3 from the list [1, 2, 3, 4, 5] ?**"
      ],
      "metadata": {
        "id": "oZUYytPzRM1K"
      }
    },
    {
      "cell_type": "code",
      "source": [
        "my_list = [1, 2, 3, 4, 5]\n",
        "my_list.remove(3)\n",
        "print(my_list)"
      ],
      "metadata": {
        "colab": {
          "base_uri": "https://localhost:8080/"
        },
        "id": "tn7OZX__RTuq",
        "outputId": "1d7bf830-d9c0-462f-a76a-9b29e8cedf0a"
      },
      "execution_count": 13,
      "outputs": [
        {
          "output_type": "stream",
          "name": "stdout",
          "text": [
            "[1, 2, 4, 5]\n"
          ]
        }
      ]
    },
    {
      "cell_type": "markdown",
      "source": [
        "9. **Write a code to access the second element in the list ['a', 'b', 'c', 'd'] ?**"
      ],
      "metadata": {
        "id": "gHLW4WfuRZXS"
      }
    },
    {
      "cell_type": "code",
      "source": [
        "char_list = ['a', 'b', 'c', 'd']\n",
        "print(char_list[1])"
      ],
      "metadata": {
        "colab": {
          "base_uri": "https://localhost:8080/"
        },
        "id": "ahmEuzGMRi5a",
        "outputId": "ad8d156b-9a96-4cca-e960-028f48a72b02"
      },
      "execution_count": 14,
      "outputs": [
        {
          "output_type": "stream",
          "name": "stdout",
          "text": [
            "b\n"
          ]
        }
      ]
    },
    {
      "cell_type": "markdown",
      "source": [
        "10.  **Write a code to reverse the list [10, 20, 30, 40, 50] ?**\n"
      ],
      "metadata": {
        "id": "6rWo1SknRtKq"
      }
    },
    {
      "cell_type": "code",
      "source": [
        "my_list = [10, 20, 30, 40, 50]\n",
        "print(my_list[::-1])"
      ],
      "metadata": {
        "colab": {
          "base_uri": "https://localhost:8080/"
        },
        "id": "g2rl1SfeR0MB",
        "outputId": "b312f3d8-f152-47ae-f7c4-52b43fdea797"
      },
      "execution_count": 15,
      "outputs": [
        {
          "output_type": "stream",
          "name": "stdout",
          "text": [
            "[50, 40, 30, 20, 10]\n"
          ]
        }
      ]
    },
    {
      "cell_type": "markdown",
      "source": [
        "11. **Write a code to create a tuple with the elements 100, 200, 300 and print it ?**"
      ],
      "metadata": {
        "id": "Y38J7N5gSGry"
      }
    },
    {
      "cell_type": "code",
      "source": [
        "my_tuple = (100, 200, 300)\n",
        "print(my_tuple)"
      ],
      "metadata": {
        "colab": {
          "base_uri": "https://localhost:8080/"
        },
        "id": "9g7KjXfySP1y",
        "outputId": "59b74d15-65c9-46b3-eef4-8d5f9a511bb1"
      },
      "execution_count": 16,
      "outputs": [
        {
          "output_type": "stream",
          "name": "stdout",
          "text": [
            "(100, 200, 300)\n"
          ]
        }
      ]
    },
    {
      "cell_type": "markdown",
      "source": [
        "12.  **Write a code to access the second-to-last element of the tuple ('red', 'green', 'blue', 'yellow') ?**"
      ],
      "metadata": {
        "id": "M7oxMIp_Saky"
      }
    },
    {
      "cell_type": "code",
      "source": [
        "color_tuple = ('red', 'green', 'blue', 'yellow')\n",
        "print(color_tuple[-2])"
      ],
      "metadata": {
        "colab": {
          "base_uri": "https://localhost:8080/"
        },
        "id": "Imv8dzn-SpYC",
        "outputId": "2b023d0d-87a4-4239-e2a1-3111a6c4b4ad"
      },
      "execution_count": 17,
      "outputs": [
        {
          "output_type": "stream",
          "name": "stdout",
          "text": [
            "blue\n"
          ]
        }
      ]
    },
    {
      "cell_type": "markdown",
      "source": [
        "13.  **Write a code to find the minimum number in the tuple (10, 20, 5, 15).**\n"
      ],
      "metadata": {
        "id": "t93__Y9cSwZi"
      }
    },
    {
      "cell_type": "code",
      "source": [
        "num_tuple = (10, 20, 5, 15)\n",
        "print(min(num_tuple))"
      ],
      "metadata": {
        "colab": {
          "base_uri": "https://localhost:8080/"
        },
        "id": "feMvypAWS4RJ",
        "outputId": "c17406e7-d72f-455a-d381-222cadf063c7"
      },
      "execution_count": 18,
      "outputs": [
        {
          "output_type": "stream",
          "name": "stdout",
          "text": [
            "5\n"
          ]
        }
      ]
    },
    {
      "cell_type": "markdown",
      "source": [
        "14.  **Write a code to find the index of the element \"cat\" in the tuple ('dog', 'cat', 'rabbit').**\n"
      ],
      "metadata": {
        "id": "FoZT-r6IS-KZ"
      }
    },
    {
      "cell_type": "code",
      "source": [
        "animal_tuple = ('dog', 'cat', 'rabbit')\n",
        "print(animal_tuple.index('cat'))"
      ],
      "metadata": {
        "colab": {
          "base_uri": "https://localhost:8080/"
        },
        "id": "ZQbep_coTHw5",
        "outputId": "301e97da-8502-4c95-99e7-378f48b504fa"
      },
      "execution_count": 19,
      "outputs": [
        {
          "output_type": "stream",
          "name": "stdout",
          "text": [
            "1\n"
          ]
        }
      ]
    },
    {
      "cell_type": "markdown",
      "source": [
        "15.  **Write a code to create a tuple containing three different fruits and check if \"kiwi\" is in it.**\n"
      ],
      "metadata": {
        "id": "i4Y3OotdTO5q"
      }
    },
    {
      "cell_type": "code",
      "source": [
        "fruit_tuple = ('apple', 'banana', 'orange')\n",
        "print(f\"Is 'kiwi' in the tuple? {'kiwi' in fruit_tuple}\")"
      ],
      "metadata": {
        "colab": {
          "base_uri": "https://localhost:8080/"
        },
        "id": "yD4tLvl_Td7B",
        "outputId": "30249ac0-cfab-4cac-ccd6-a083501ef3bd"
      },
      "execution_count": 20,
      "outputs": [
        {
          "output_type": "stream",
          "name": "stdout",
          "text": [
            "Is 'kiwi' in the tuple? False\n"
          ]
        }
      ]
    },
    {
      "cell_type": "markdown",
      "source": [
        "16.  **Write a code to create a set with the elements 'a', 'b', 'c' and print it.**\n"
      ],
      "metadata": {
        "id": "pQsdaFI5TunR"
      }
    },
    {
      "cell_type": "code",
      "source": [
        "char_set = {'a', 'b', 'c'}\n",
        "print(char_set)"
      ],
      "metadata": {
        "colab": {
          "base_uri": "https://localhost:8080/"
        },
        "id": "-SCFTJJ8T0ZR",
        "outputId": "a8539275-1337-484a-914e-aaf73c2e8a8a"
      },
      "execution_count": 21,
      "outputs": [
        {
          "output_type": "stream",
          "name": "stdout",
          "text": [
            "{'c', 'a', 'b'}\n"
          ]
        }
      ]
    },
    {
      "cell_type": "markdown",
      "source": [
        "17.  **Write a code to clear all elements from the set {1, 2, 3, 4, 5}.**\n"
      ],
      "metadata": {
        "id": "PILomdVlT6Y5"
      }
    },
    {
      "cell_type": "code",
      "source": [
        "num_set = {1, 2, 3, 4, 5}\n",
        "num_set.clear()\n",
        "print(num_set)"
      ],
      "metadata": {
        "colab": {
          "base_uri": "https://localhost:8080/"
        },
        "id": "GcAyVZ4ZT_XA",
        "outputId": "aac3ba6e-2562-4b46-9ced-de09cfc0488c"
      },
      "execution_count": 22,
      "outputs": [
        {
          "output_type": "stream",
          "name": "stdout",
          "text": [
            "set()\n"
          ]
        }
      ]
    },
    {
      "cell_type": "markdown",
      "source": [
        "18. **Write a code to remove the element 4 from the set {1, 2, 3, 4}.**\n"
      ],
      "metadata": {
        "id": "cBUbk1zhUEj4"
      }
    },
    {
      "cell_type": "code",
      "source": [
        "my_set = {1, 2, 3, 4}\n",
        "my_set.remove(4)\n",
        "print(my_set)"
      ],
      "metadata": {
        "colab": {
          "base_uri": "https://localhost:8080/"
        },
        "id": "1080KL09UKHA",
        "outputId": "326ec577-fb48-40d9-a43d-f14167aa0a93"
      },
      "execution_count": 23,
      "outputs": [
        {
          "output_type": "stream",
          "name": "stdout",
          "text": [
            "{1, 2, 3}\n"
          ]
        }
      ]
    },
    {
      "cell_type": "markdown",
      "source": [
        "19.  **Write a code to find the union of two sets {1, 2, 3} and {3, 4, 5}.**\n"
      ],
      "metadata": {
        "id": "zbrSZvUnUTbJ"
      }
    },
    {
      "cell_type": "code",
      "source": [
        "set1 = {1, 2, 3}\n",
        "set2 = {3, 4, 5}\n",
        "print(set1|set2)"
      ],
      "metadata": {
        "colab": {
          "base_uri": "https://localhost:8080/"
        },
        "id": "yLBIp0_yUbYJ",
        "outputId": "be8d2198-d9af-48b8-8435-1d0b99b8a7b0"
      },
      "execution_count": 25,
      "outputs": [
        {
          "output_type": "stream",
          "name": "stdout",
          "text": [
            "{1, 2, 3, 4, 5}\n"
          ]
        }
      ]
    },
    {
      "cell_type": "markdown",
      "source": [
        "20. **Write a code to find the intersection of two sets {1, 2, 3} and {2, 3, 4}.**\n"
      ],
      "metadata": {
        "id": "kYxQGteJUrrw"
      }
    },
    {
      "cell_type": "code",
      "source": [
        "set1 = {1, 2, 3}\n",
        "set2 = {2, 3, 4}\n",
        "print(set1 & set2)"
      ],
      "metadata": {
        "colab": {
          "base_uri": "https://localhost:8080/"
        },
        "id": "RxVz4h8FUzjZ",
        "outputId": "6e14ac9a-5ac2-4d6c-a8d4-fd734551b435"
      },
      "execution_count": 26,
      "outputs": [
        {
          "output_type": "stream",
          "name": "stdout",
          "text": [
            "{2, 3}\n"
          ]
        }
      ]
    },
    {
      "cell_type": "markdown",
      "source": [
        "21.  **Write a code to create a dictionary with the keys \"name\", \"age\", and \"city\", and print it.**\n"
      ],
      "metadata": {
        "id": "lO3XynXmU_kY"
      }
    },
    {
      "cell_type": "code",
      "source": [
        "my_dict = {\"name\": \"John\", \"age\": 25, \"city\": \"Anytown\"}\n",
        "print(my_dict)"
      ],
      "metadata": {
        "colab": {
          "base_uri": "https://localhost:8080/"
        },
        "id": "5VxDcgTMVFfp",
        "outputId": "021ac825-8271-44f0-f48b-77e150d236fd"
      },
      "execution_count": 27,
      "outputs": [
        {
          "output_type": "stream",
          "name": "stdout",
          "text": [
            "{'name': 'John', 'age': 25, 'city': 'Anytown'}\n"
          ]
        }
      ]
    },
    {
      "cell_type": "markdown",
      "source": [
        "22. **Write a code to add a new key-value pair \"country\": \"USA\" to the dictionary {'name': 'John', 'age': 25}.**\n"
      ],
      "metadata": {
        "id": "gT43LlRCVNrA"
      }
    },
    {
      "cell_type": "code",
      "source": [
        "my_dict = {'name': 'John', 'age': 25}\n",
        "my_dict['country'] = 'USA'\n",
        "print(my_dict)"
      ],
      "metadata": {
        "colab": {
          "base_uri": "https://localhost:8080/"
        },
        "id": "phi3bpbsVToZ",
        "outputId": "a6c7fbd3-4315-4627-9006-b52cb98f5b67"
      },
      "execution_count": 28,
      "outputs": [
        {
          "output_type": "stream",
          "name": "stdout",
          "text": [
            "{'name': 'John', 'age': 25, 'country': 'USA'}\n"
          ]
        }
      ]
    },
    {
      "cell_type": "markdown",
      "source": [
        "23. **Write a code to access the value associated with the key \"name\" in the dictionary {'name': 'Alice', 'age': 30}.**\n"
      ],
      "metadata": {
        "id": "7J7yLtsHVcth"
      }
    },
    {
      "cell_type": "code",
      "source": [
        "my_dict = {'name': 'Alice', 'age': 30}\n",
        "print(my_dict['name'])\n"
      ],
      "metadata": {
        "colab": {
          "base_uri": "https://localhost:8080/"
        },
        "id": "Yc8DKK6CbRaw",
        "outputId": "c23b2b0e-bb4f-494a-f2b4-cb6169aa63ce"
      },
      "execution_count": 29,
      "outputs": [
        {
          "output_type": "stream",
          "name": "stdout",
          "text": [
            "Alice\n"
          ]
        }
      ]
    },
    {
      "cell_type": "markdown",
      "source": [
        "24. **Write a code to remove the key \"age\" from the dictionary {'name': 'Bob', 'age': 22, 'city': 'New York'}.**\n"
      ],
      "metadata": {
        "id": "WhrQ5j-2bdfg"
      }
    },
    {
      "cell_type": "code",
      "source": [
        "my_dict = {'name': 'Bob', 'age': 22, 'city': 'New York'}\n",
        "del my_dict['age']\n",
        "print(my_dict)"
      ],
      "metadata": {
        "colab": {
          "base_uri": "https://localhost:8080/"
        },
        "id": "64roAi9qbjgg",
        "outputId": "26691dda-3730-4ec1-854a-c78ff675eb1a"
      },
      "execution_count": 30,
      "outputs": [
        {
          "output_type": "stream",
          "name": "stdout",
          "text": [
            "{'name': 'Bob', 'city': 'New York'}\n"
          ]
        }
      ]
    },
    {
      "cell_type": "markdown",
      "source": [
        "25. **Write a code to check if the key \"city\" exists in the dictionary {'name': 'Alice', 'city': 'Paris'}.**\n"
      ],
      "metadata": {
        "id": "Z0Ib30CAbugI"
      }
    },
    {
      "cell_type": "code",
      "source": [
        "my_dict = {'name': 'Alice', 'city': 'Paris'}\n",
        "print(f\"Is 'city' a key in the dictionary? {'city' in my_dict}\")"
      ],
      "metadata": {
        "colab": {
          "base_uri": "https://localhost:8080/"
        },
        "id": "Dy7h4N5Wb1Lo",
        "outputId": "4f3d8c18-0cb7-42b7-d4d6-d77ce71b5648"
      },
      "execution_count": 31,
      "outputs": [
        {
          "output_type": "stream",
          "name": "stdout",
          "text": [
            "Is 'city' a key in the dictionary? True\n"
          ]
        }
      ]
    },
    {
      "cell_type": "markdown",
      "source": [
        "26. **Write a code to create a list, a tuple, and a dictionary, and print them all.**\n"
      ],
      "metadata": {
        "id": "TvNNpoHpb9gQ"
      }
    },
    {
      "cell_type": "code",
      "source": [
        "my_list = [1, 'a', True]\n",
        "my_tuple = (2, 'b', False)\n",
        "my_dict = {'key1': 1, 'key2': 'c'}\n",
        "print(\"List:\", my_list)\n",
        "print(\"Tuple:\", my_tuple)\n",
        "print(\"Dictionary:\", my_dict)"
      ],
      "metadata": {
        "colab": {
          "base_uri": "https://localhost:8080/"
        },
        "id": "YPpu89y0cDzP",
        "outputId": "838e7e73-9c1c-424d-b999-b753e89457f6"
      },
      "execution_count": 32,
      "outputs": [
        {
          "output_type": "stream",
          "name": "stdout",
          "text": [
            "List: [1, 'a', True]\n",
            "Tuple: (2, 'b', False)\n",
            "Dictionary: {'key1': 1, 'key2': 'c'}\n"
          ]
        }
      ]
    },
    {
      "cell_type": "markdown",
      "source": [
        "27. **Write a code to create a list of 5 random numbers between 1 and 100, sort it in ascending order, and print the result.**"
      ],
      "metadata": {
        "id": "AbO1EBZAcKIZ"
      }
    },
    {
      "cell_type": "code",
      "source": [
        "import random\n",
        "random_numbers = [random.randint(1, 100) for random_numbers in range(5)]\n",
        "random_numbers.sort()\n",
        "print(random_numbers)"
      ],
      "metadata": {
        "colab": {
          "base_uri": "https://localhost:8080/"
        },
        "id": "fCXc0jc1cRI4",
        "outputId": "594615b1-f628-43af-f492-42eeaf82772a"
      },
      "execution_count": 38,
      "outputs": [
        {
          "output_type": "stream",
          "name": "stdout",
          "text": [
            "[17, 35, 38, 45, 73]\n"
          ]
        }
      ]
    },
    {
      "cell_type": "markdown",
      "source": [
        "28. **Write a code to create a list with strings and print the element at the third index.**\n"
      ],
      "metadata": {
        "id": "FCy42VTydGSA"
      }
    },
    {
      "cell_type": "code",
      "source": [
        "str_list = [\"first\", \"second\", \"third\", \"fourth\"]\n",
        "print(str_list[3])"
      ],
      "metadata": {
        "colab": {
          "base_uri": "https://localhost:8080/"
        },
        "id": "lrnGJSpndLpC",
        "outputId": "8f1825df-ccf5-46d1-a809-9a5fe5e97f86"
      },
      "execution_count": 39,
      "outputs": [
        {
          "output_type": "stream",
          "name": "stdout",
          "text": [
            "fourth\n"
          ]
        }
      ]
    },
    {
      "cell_type": "markdown",
      "source": [
        "29. **Write a code to combine two dictionaries into one and print the result.**\n"
      ],
      "metadata": {
        "id": "brreLfwFddIo"
      }
    },
    {
      "cell_type": "code",
      "source": [
        "dict1 = {'a': 1, 'b': 2}\n",
        "dict2 = {'c': 3, 'd': 4}\n",
        "dict1.update(dict2)\n",
        "print(dict1)\n",
        "\n"
      ],
      "metadata": {
        "colab": {
          "base_uri": "https://localhost:8080/"
        },
        "id": "MNSf66vbdjCI",
        "outputId": "ea2c5a2c-d40f-4bb4-f016-0722aab57218"
      },
      "execution_count": 47,
      "outputs": [
        {
          "output_type": "stream",
          "name": "stdout",
          "text": [
            "{'a': 1, 'b': 2, 'c': 3, 'd': 4}\n"
          ]
        }
      ]
    },
    {
      "cell_type": "markdown",
      "source": [
        "30. **Write a code to convert a list of strings into a set.**"
      ],
      "metadata": {
        "id": "prm1XkZEfYBX"
      }
    },
    {
      "cell_type": "code",
      "source": [
        "string_list = [\"apple\", \"banana\", \"apple\", \"orange\"]\n",
        "string_set = set(string_list)\n",
        "print(string_set)"
      ],
      "metadata": {
        "colab": {
          "base_uri": "https://localhost:8080/"
        },
        "id": "A-WLsynLfgCf",
        "outputId": "29fb6d74-c029-41c8-c632-109c6bea51c1"
      },
      "execution_count": 48,
      "outputs": [
        {
          "output_type": "stream",
          "name": "stdout",
          "text": [
            "{'banana', 'apple', 'orange'}\n"
          ]
        }
      ]
    }
  ]
}